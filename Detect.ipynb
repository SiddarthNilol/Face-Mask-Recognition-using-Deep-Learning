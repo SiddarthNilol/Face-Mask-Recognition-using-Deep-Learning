{
  "nbformat": 4,
  "nbformat_minor": 0,
  "metadata": {
    "accelerator": "GPU",
    "colab": {
      "name": "DeepVision_Task.ipynb",
      "provenance": []
    },
    "kernelspec": {
      "display_name": "Python 3",
      "name": "python3"
    }
  },
  "cells": [
    {
      "cell_type": "code",
      "metadata": {
        "id": "GQs6r5IYEXgx"
      },
      "source": [
        "#import statements\n",
        "import os\n",
        "from imutils import paths\n",
        "import numpy as np\n",
        "import matplotlib.pyplot as plt\n",
        "from tensorflow.keras.models import Sequential\n",
        "from tensorflow.keras.preprocessing.image import ImageDataGenerator\n",
        "from tensorflow.keras.applications import MobileNetV2\n",
        "from tensorflow.keras.layers import Conv2D\n",
        "from tensorflow.keras.layers import MaxPooling2D\n",
        "from tensorflow.keras.layers import AveragePooling2D\n",
        "from tensorflow.keras.layers import Dropout\n",
        "from tensorflow.keras.layers import Flatten\n",
        "from tensorflow.keras.layers import Dense\n",
        "from tensorflow.keras.layers import Input\n",
        "from tensorflow.keras.models import Model\n",
        "from tensorflow.keras.optimizers import Adam\n",
        "from tensorflow.keras.applications.mobilenet_v2 import preprocess_input\n",
        "from tensorflow.keras.preprocessing.image import img_to_array\n",
        "from tensorflow.keras.preprocessing.image import load_img\n",
        "from tensorflow.keras.utils import to_categorical\n",
        "from keras.callbacks import  ModelCheckpoint\n",
        "from sklearn.preprocessing import LabelBinarizer\n",
        "from sklearn.model_selection import train_test_split\n",
        "\n"
      ],
      "execution_count": 1,
      "outputs": []
    },
    {
      "cell_type": "code",
      "metadata": {
        "id": "iuSoIXZN4tPG"
      },
      "source": [
        "imagePaths = list(paths.list_images('/content/drive/MyDrive/Maskrecognition'))\n",
        "\n",
        "data = []\n",
        "labels = []\n",
        "\n",
        "#to extract images from the folder and assigning the labels\n",
        "for imagePath in imagePaths:\n",
        "  #get the label from the class folder name\n",
        "  label = imagePath.split(os.path.sep)[-2]\n",
        "\n",
        "  #image preprocessing\n",
        "  img = load_img(imagePath, target_size=(224,224))\n",
        "  img = img_to_array(img)\n",
        "  img = preprocess_input(img)\n",
        "\n",
        "  #append the image and label to the lists\n",
        "  data.append(img)\n",
        "  labels.append(label)\n",
        "\n",
        "data = np.array(data, dtype=\"float32\")\n",
        "labels = np.array(labels)\n"
      ],
      "execution_count": 2,
      "outputs": []
    },
    {
      "cell_type": "code",
      "metadata": {
        "id": "Pcf_6w9y6wl8"
      },
      "source": [
        "lb = LabelBinarizer()\n",
        "labels = lb.fit_transform(labels)\n",
        "labels = to_categorical(labels)"
      ],
      "execution_count": 3,
      "outputs": []
    },
    {
      "cell_type": "code",
      "metadata": {
        "id": "V8scAxDu9knv"
      },
      "source": [
        "#split the data into train, val, and test sets\n",
        "#70% train, 20%val, 10%test\n",
        "trainX, data1, trainY, labels1 = train_test_split(data, labels,test_size=0.30, stratify=labels, random_state=42)\n",
        "\n",
        "valX, testX, valY, testY = train_test_split(data1, labels1, test_size=0.334, stratify=labels1, random_state=42)"
      ],
      "execution_count": 4,
      "outputs": []
    },
    {
      "cell_type": "code",
      "metadata": {
        "id": "clgtwimg_ple"
      },
      "source": [
        "#image augmentation for training data to increase the num of samples.\n",
        "\n",
        "aug = ImageDataGenerator(\n",
        "\trotation_range=20,\n",
        "\tzoom_range=0.15,\n",
        "\twidth_shift_range=0.2,\n",
        "\theight_shift_range=0.2,\n",
        "\tshear_range=0.15,\n",
        "\thorizontal_flip=True,\n",
        "\tfill_mode=\"nearest\")\n",
        "\n",
        "val_aug = ImageDataGenerator(rescale=1.0/255)"
      ],
      "execution_count": 5,
      "outputs": []
    },
    {
      "cell_type": "code",
      "metadata": {
        "id": "zoevKPEx7V3i"
      },
      "source": [
        "#building a network architecture\n",
        "model =Sequential([\n",
        "    Conv2D(150, (3,3), activation='relu', input_shape=(224, 224, 3)),\n",
        "    MaxPooling2D(2,2),\n",
        "    \n",
        "    Conv2D(150, (3,3), activation='relu'),\n",
        "    MaxPooling2D(2,2),\n",
        "    \n",
        "    Flatten(),\n",
        "    Dropout(0.5),\n",
        "    Dense(50, activation='relu'),\n",
        "    Dense(2, activation='softmax')\n",
        "])\n",
        "model.compile(optimizer='adam', loss='binary_crossentropy', metrics=['acc'])"
      ],
      "execution_count": 6,
      "outputs": []
    },
    {
      "cell_type": "code",
      "metadata": {
        "id": "CqIbdlBoOFKg"
      },
      "source": [
        "checkpoint = ModelCheckpoint('model2-{epoch:03d}.model',monitor='val_loss',verbose=0,save_best_only=True,mode='auto')"
      ],
      "execution_count": 7,
      "outputs": []
    },
    {
      "cell_type": "code",
      "metadata": {
        "id": "gMuh0TtIAcMo",
        "colab": {
          "base_uri": "https://localhost:8080/"
        },
        "outputId": "4d77dbb3-6703-4363-cd5c-2140d21be652"
      },
      "source": [
        "INIT_LR = 1e-4\n",
        "EPOCHS = 20\n",
        "BS = 32\n",
        "\n",
        "print(\"[INFO] training head...\")\n",
        "H = model.fit(\n",
        "\taug.flow(trainX, trainY, batch_size=BS),\n",
        "  epochs=EPOCHS,\n",
        "\tvalidation_data= (valX, valY),\n",
        "  callbacks= [checkpoint])\n"
      ],
      "execution_count": 8,
      "outputs": [
        {
          "output_type": "stream",
          "text": [
            "[INFO] training head...\n",
            "Epoch 1/20\n",
            "92/92 [==============================] - 46s 385ms/step - loss: 0.8541 - acc: 0.6508 - val_loss: 0.3463 - val_acc: 0.8838\n",
            "INFO:tensorflow:Assets written to: model2-001.model/assets\n",
            "Epoch 2/20\n",
            "92/92 [==============================] - 34s 368ms/step - loss: 0.4236 - acc: 0.8497 - val_loss: 0.2669 - val_acc: 0.9162\n",
            "INFO:tensorflow:Assets written to: model2-002.model/assets\n",
            "Epoch 3/20\n",
            "92/92 [==============================] - 34s 371ms/step - loss: 0.3614 - acc: 0.8697 - val_loss: 0.2579 - val_acc: 0.9150\n",
            "INFO:tensorflow:Assets written to: model2-003.model/assets\n",
            "Epoch 4/20\n",
            "92/92 [==============================] - 34s 372ms/step - loss: 0.3305 - acc: 0.8868 - val_loss: 0.2199 - val_acc: 0.9521\n",
            "INFO:tensorflow:Assets written to: model2-004.model/assets\n",
            "Epoch 5/20\n",
            "92/92 [==============================] - 34s 371ms/step - loss: 0.2845 - acc: 0.8962 - val_loss: 0.2056 - val_acc: 0.9377\n",
            "INFO:tensorflow:Assets written to: model2-005.model/assets\n",
            "Epoch 6/20\n",
            "92/92 [==============================] - 34s 373ms/step - loss: 0.2709 - acc: 0.9038 - val_loss: 0.1894 - val_acc: 0.9413\n",
            "INFO:tensorflow:Assets written to: model2-006.model/assets\n",
            "Epoch 7/20\n",
            "92/92 [==============================] - 34s 373ms/step - loss: 0.2480 - acc: 0.9048 - val_loss: 0.1804 - val_acc: 0.9485\n",
            "INFO:tensorflow:Assets written to: model2-007.model/assets\n",
            "Epoch 8/20\n",
            "92/92 [==============================] - 35s 377ms/step - loss: 0.2327 - acc: 0.9159 - val_loss: 0.1786 - val_acc: 0.9545\n",
            "INFO:tensorflow:Assets written to: model2-008.model/assets\n",
            "Epoch 9/20\n",
            "92/92 [==============================] - 35s 375ms/step - loss: 0.2234 - acc: 0.9254 - val_loss: 0.1786 - val_acc: 0.9425\n",
            "Epoch 10/20\n",
            "92/92 [==============================] - 35s 379ms/step - loss: 0.2204 - acc: 0.9141 - val_loss: 0.1690 - val_acc: 0.9401\n",
            "INFO:tensorflow:Assets written to: model2-010.model/assets\n",
            "Epoch 11/20\n",
            "92/92 [==============================] - 35s 377ms/step - loss: 0.2271 - acc: 0.9203 - val_loss: 0.1583 - val_acc: 0.9545\n",
            "INFO:tensorflow:Assets written to: model2-011.model/assets\n",
            "Epoch 12/20\n",
            "92/92 [==============================] - 35s 376ms/step - loss: 0.2025 - acc: 0.9291 - val_loss: 0.1651 - val_acc: 0.9389\n",
            "Epoch 13/20\n",
            "92/92 [==============================] - 35s 378ms/step - loss: 0.2018 - acc: 0.9260 - val_loss: 0.1714 - val_acc: 0.9389\n",
            "Epoch 14/20\n",
            "92/92 [==============================] - 35s 376ms/step - loss: 0.2067 - acc: 0.9274 - val_loss: 0.1545 - val_acc: 0.9521\n",
            "INFO:tensorflow:Assets written to: model2-014.model/assets\n",
            "Epoch 15/20\n",
            "92/92 [==============================] - 35s 380ms/step - loss: 0.2217 - acc: 0.9214 - val_loss: 0.1423 - val_acc: 0.9533\n",
            "INFO:tensorflow:Assets written to: model2-015.model/assets\n",
            "Epoch 16/20\n",
            "92/92 [==============================] - 35s 375ms/step - loss: 0.2171 - acc: 0.9146 - val_loss: 0.1541 - val_acc: 0.9497\n",
            "Epoch 17/20\n",
            "92/92 [==============================] - 35s 378ms/step - loss: 0.2223 - acc: 0.9218 - val_loss: 0.1462 - val_acc: 0.9473\n",
            "Epoch 18/20\n",
            "92/92 [==============================] - 35s 375ms/step - loss: 0.1917 - acc: 0.9307 - val_loss: 0.1615 - val_acc: 0.9401\n",
            "Epoch 19/20\n",
            "92/92 [==============================] - 35s 375ms/step - loss: 0.2000 - acc: 0.9275 - val_loss: 0.1554 - val_acc: 0.9641\n",
            "Epoch 20/20\n",
            "92/92 [==============================] - 35s 375ms/step - loss: 0.2275 - acc: 0.9181 - val_loss: 0.1506 - val_acc: 0.9473\n"
          ],
          "name": "stdout"
        }
      ]
    },
    {
      "cell_type": "code",
      "metadata": {
        "id": "C-DyowsZAxcG",
        "colab": {
          "base_uri": "https://localhost:8080/"
        },
        "outputId": "e7ce68d6-0a46-4ad2-8964-ed6fb9b10682"
      },
      "source": [
        "from sklearn.metrics import classification_report\n",
        "print(\"[INFO] evaluating network...\")\n",
        "predIdxs = model.predict(valX, batch_size=BS)\n",
        "predIdxs = np.argmax(predIdxs, axis=1)\n",
        "\n",
        "print(classification_report(valY.argmax(axis=1), predIdxs,\n",
        "\ttarget_names=lb.classes_))\n"
      ],
      "execution_count": 9,
      "outputs": [
        {
          "output_type": "stream",
          "text": [
            "[INFO] evaluating network...\n",
            "              precision    recall  f1-score   support\n",
            "\n",
            "   with_mask       0.94      0.96      0.95       408\n",
            "without_mask       0.96      0.94      0.95       427\n",
            "\n",
            "    accuracy                           0.95       835\n",
            "   macro avg       0.95      0.95      0.95       835\n",
            "weighted avg       0.95      0.95      0.95       835\n",
            "\n"
          ],
          "name": "stdout"
        }
      ]
    },
    {
      "cell_type": "code",
      "metadata": {
        "id": "HlFWOTmkRSKU",
        "colab": {
          "base_uri": "https://localhost:8080/",
          "height": 316
        },
        "outputId": "bcc0b60c-f4fd-4f90-fef3-bf05fe4eb312"
      },
      "source": [
        "N = EPOCHS\n",
        "plt.style.use(\"ggplot\")\n",
        "plt.figure()\n",
        "plt.plot(np.arange(0, N), H.history[\"loss\"], label=\"train_loss\")\n",
        "plt.plot(np.arange(0, N), H.history[\"val_loss\"], label=\"val_loss\")\n",
        "plt.plot(np.arange(0, N), H.history[\"acc\"], label=\"train_acc\")\n",
        "plt.plot(np.arange(0, N), H.history[\"val_acc\"], label=\"val_acc\")\n",
        "plt.title(\"Training Loss and Accuracy\")\n",
        "plt.xlabel(\"Epoch #\")\n",
        "plt.ylabel(\"Loss/Accuracy\")\n",
        "plt.legend(loc=\"lower left\")\n",
        "#plt.savefig(args[\"plot\"])"
      ],
      "execution_count": 10,
      "outputs": [
        {
          "output_type": "execute_result",
          "data": {
            "text/plain": [
              "<matplotlib.legend.Legend at 0x7f8982612850>"
            ]
          },
          "metadata": {
            "tags": []
          },
          "execution_count": 10
        },
        {
          "output_type": "display_data",
          "data": {
            "image/png": "[encoded data removed]",
            "text/plain": [
              "<Figure size 432x288 with 1 Axes>"
            ]
          },
          "metadata": {
            "tags": []
          }
        }
      ]
    }
  ]
}